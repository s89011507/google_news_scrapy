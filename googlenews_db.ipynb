{
 "cells": [
  {
   "cell_type": "code",
   "execution_count": 1,
   "metadata": {
    "collapsed": true
   },
   "outputs": [],
   "source": [
    "import MySQLdb\n",
    "import requests\n",
    "from bs4 import BeautifulSoup\n",
    "import pandas as pd\n",
    "import re"
   ]
  },
  {
   "cell_type": "code",
   "execution_count": null,
   "metadata": {
    "collapsed": true
   },
   "outputs": [],
   "source": [
    "#放進資料庫\n",
    "df = pd.DataFrame(columns=['筆數','類別','新聞標題','新聞連結'])\n",
    "count = 1\n",
    "\n",
    "\n",
    "#焦點新聞\n",
    "res = requests.get(\"https://news.google.com/news/?hl=zh-TW&ned=tw\")\n",
    "soup = BeautifulSoup(res.text,\"html.parser\")\n",
    "db = MySQLdb.connect(\"localhost\",\"root\",\"1234\",\"test\",charset='utf8')\n",
    "cursor = db.cursor()\n",
    "cursor.execute(\"\"\"truncate table news\"\"\")\n",
    "db.commit()\n",
    "cate=\"焦點\"\n",
    "\n",
    "for item in soup.select(\".M1Uqc\"):\n",
    "    news_title = item.find(\"a\").text\n",
    "    news_url = item.find(\"a\")['href']\n",
    "    news_com = item.find(\"span\").text\n",
    "    time = item.findAll('span')[2].text\n",
    "   \n",
    "    try:\n",
    "        cursor.execute(\"\"\"INSERT INTO news VALUES (%s,%s,%s,%s,%s,%s)\"\"\",(count,cate,news_title,news_url,news_com,time))\n",
    "        db.commit()\n",
    "    except:     \n",
    "        db.rollback()\n",
    "    \n",
    "   \n",
    "    count += 1\n",
    "db.close()"
   ]
  }
 ],
 "metadata": {
  "kernelspec": {
   "display_name": "Python 3",
   "language": "python",
   "name": "python3"
  },
  "language_info": {
   "codemirror_mode": {
    "name": "ipython",
    "version": 3
   },
   "file_extension": ".py",
   "mimetype": "text/x-python",
   "name": "python",
   "nbconvert_exporter": "python",
   "pygments_lexer": "ipython3",
   "version": "3.6.1"
  }
 },
 "nbformat": 4,
 "nbformat_minor": 2
}
