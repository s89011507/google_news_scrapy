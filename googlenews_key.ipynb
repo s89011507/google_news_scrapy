{
 "cells": [
  {
   "cell_type": "code",
   "execution_count": 1,
   "metadata": {
    "collapsed": true
   },
   "outputs": [],
   "source": [
    "import MySQLdb\n",
    "import requests\n",
    "from bs4 import BeautifulSoup\n",
    "import pandas as pd\n",
    "import re"
   ]
  },
  {
   "cell_type": "code",
   "execution_count": null,
   "metadata": {
    "collapsed": true
   },
   "outputs": [],
   "source": [
    "#關鍵字\n",
    "##################\n",
    "#輸入想輸入的關鍵字\n",
    "text=\"關鍵字\"\n",
    "##################\n",
    "df = pd.DataFrame(columns=['筆數','類別','新聞標題','新聞連結'])\n",
    "count = 1\n",
    "\n",
    "#焦點新聞\n",
    "res = requests.get(\"https://news.google.com/news/?hl=zh-TW&ned=tw\")\n",
    "soup = BeautifulSoup(res.text,\"html.parser\")\n",
    "\n",
    "for item in soup.select(\".nuEeue\"):\n",
    "    news_title = (item.text)\n",
    "    a=news_title.find(text)\n",
    "    if a>=0:\n",
    "        news_url = item.get('href')\n",
    "        df2 = pd.DataFrame([[count,\"焦點\",news_title, news_url]],columns=['筆數','類別','新聞標題','新聞連結'])\n",
    "        df=df.append(df2, ignore_index=True)\n",
    "        count += 1\n",
    "df"
   ]
  }
 ],
 "metadata": {
  "kernelspec": {
   "display_name": "Python 3",
   "language": "python",
   "name": "python3"
  },
  "language_info": {
   "codemirror_mode": {
    "name": "ipython",
    "version": 3
   },
   "file_extension": ".py",
   "mimetype": "text/x-python",
   "name": "python",
   "nbconvert_exporter": "python",
   "pygments_lexer": "ipython3",
   "version": "3.6.1"
  }
 },
 "nbformat": 4,
 "nbformat_minor": 2
}
